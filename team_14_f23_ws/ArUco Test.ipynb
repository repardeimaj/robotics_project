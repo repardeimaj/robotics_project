{
 "cells": [
  {
   "cell_type": "code",
   "execution_count": 1,
   "id": "c10f5b4d",
   "metadata": {},
   "outputs": [],
   "source": [
    "import time\n",
    "# Arm_Lib import Arm_Device\n",
    "import math\n",
    "import numpy as np\n",
    "import general_robotics_toolbox as rox\n",
    "import inv_kin as inv\n",
    "from aruco_helper import *\n",
    "import aruco_helper"
   ]
  },
  {
   "cell_type": "code",
   "execution_count": 2,
   "id": "ada5fb66",
   "metadata": {},
   "outputs": [],
   "source": [
    "\"\"\" Create Robot Object \"\"\"\n",
    "\n",
    "# Define all the joint lengths [m]\n",
    "l0 = 61 * 10**-3\n",
    "l1 = 43.5 * 10**-3\n",
    "l2 = 82.85 * 10**-3\n",
    "l3 = 82.85 * 10**-3\n",
    "l4 = 73.85 * 10**-3\n",
    "l5 = 54.57 * 10**-3\n",
    "\n",
    "# define the unit vectors\n",
    "ex = np.array([1, 0, 0])\n",
    "ey = np.array([0, 1, 0])\n",
    "ez = np.array([0, 0, 1])\n",
    "\n",
    "# Define the position vectors from i-1 -> i\n",
    "P01 = (l0 + l1) * ez\n",
    "P12 = np.zeros(3)\n",
    "P23 = l2 * ex\n",
    "P34 = -1*l3 * ez\n",
    "P45 = np.zeros(3)\n",
    "P5T = -1*(l4 + l5) * ex\n",
    "    \n",
    "# define the class inputs: rotation axes (H), position vectors (P), and joint_type\n",
    "H = np.array([ez, -1*ey, -1*ey, -1*ey, -1*ex]).T\n",
    "P = np.array([P01, P12, P23, P34, P45, P5T]).T\n",
    "joint_type = [0, 0, 0, 0, 0]\n",
    "\n",
    "# define the Robot class\n",
    "robot = rox.Robot(H, P, joint_type)\n",
    "\n",
    "# define transform from the end-effector to camera\n",
    "R_camera = np.array([[0, 0, -1], [-1, 0, 0], [0, 1, 0]])\n",
    "p_camera = np.array([[0.0640], [0], [-0.0481]])\n",
    "T_camera = rox.Transform(R_camera, p_camera)"
   ]
  },
  {
   "cell_type": "code",
   "execution_count": 3,
   "id": "dd98ea96",
   "metadata": {},
   "outputs": [
    {
     "name": "stdout",
     "output_type": "stream",
     "text": [
      "hoping to detect a block\n",
      "[INFO] ArUco marker ID: 5\n",
      "[INFO] ArUco marker ID: 0\n"
     ]
    },
    {
     "data": {
      "text/plain": [
       "Transform(\n",
       "    R = array([[ 0.444 , -0.895 ,  0.0438],\n",
       "               [ 0.8872,  0.4459,  0.1184],\n",
       "               [-0.1255, -0.0137,  0.992 ]])\n",
       "    p = array([ 0.3167, -0.0044, -0.002 ])\n",
       ")"
      ]
     },
     "execution_count": 3,
     "metadata": {},
     "output_type": "execute_result"
    }
   ],
   "source": [
    "\n",
    "print(\"hoping to detect a block\")\n",
    "\n",
    "\n",
    "block1 = Block(0.03, { 0: [ ez,  ey],\n",
    "                       1: [-ez, -ex],\n",
    "                       2: [ ex,  ey],\n",
    "                       3: [-ey,  ex],\n",
    "                       4: [-ex, -ey],\n",
    "                       5: [ ey, -ex]})\n",
    "\n",
    "block2 = Block(0.03, { 6: [ ez,  ey],\n",
    "                       7: [-ez, -ex],\n",
    "                       8: [ ex,  ey],\n",
    "                       9: [-ey,  ex],\n",
    "                      10:[-ex, -ey],\n",
    "                      11:[ ey, -ex]})\n",
    "\n",
    "block3 = Block(0.03, {12:[ ez,  ey],\n",
    "                      13:[-ez, -ex],\n",
    "                      14:[ ex,  ey],\n",
    "                      15:[-ey,  ex],\n",
    "                      16:[-ex, -ey],\n",
    "                      17:[ ey, -ex]})\n",
    "\n",
    "block4 = Block(0.03, {18:[ ez,  ey],\n",
    "                      19:[-ez, -ex],\n",
    "                      20:[ ex,  ey],\n",
    "                      21:[-ey,  ex],\n",
    "                      22:[-ex, -ey],\n",
    "                      23:[ ey, -ex]})\n",
    "\n",
    "blocks = [block1, block2, block3, block4]\n",
    "        \n",
    "        \n",
    "# find camera port\n",
    "for port in range(10):\n",
    "    camera = cv2.VideoCapture(port)\n",
    "    ret, image = camera.read()\n",
    "    if ret:\n",
    "        break\n",
    "            \n",
    "_, image = camera.read()\n",
    "        \n",
    "image = cv2.imread(\"sample_input_image.jpg\")\n",
    "\n",
    "updateBlockPositions(image, blocks, robot, [0, 90, 0, 45, 0])\n",
    "    \n",
    "    \n",
    "block1.T\n"
   ]
  },
  {
   "cell_type": "code",
   "execution_count": 12,
   "id": "f0e176a8",
   "metadata": {},
   "outputs": [
    {
     "data": {
      "text/plain": [
       "Transform(\n",
       "    R = array([[1., 0., 0.],\n",
       "               [0., 1., 0.],\n",
       "               [0., 0., 1.]])\n",
       "    p = array([-0.0456,  0.    ,  0.0217])\n",
       ")"
      ]
     },
     "execution_count": 12,
     "metadata": {},
     "output_type": "execute_result"
    }
   ],
   "source": []
  },
  {
   "cell_type": "code",
   "execution_count": null,
   "id": "c2010449",
   "metadata": {},
   "outputs": [],
   "source": []
  }
 ],
 "metadata": {
  "kernelspec": {
   "display_name": "Python 3 (ipykernel)",
   "language": "python",
   "name": "python3"
  },
  "language_info": {
   "codemirror_mode": {
    "name": "ipython",
    "version": 3
   },
   "file_extension": ".py",
   "mimetype": "text/x-python",
   "name": "python",
   "nbconvert_exporter": "python",
   "pygments_lexer": "ipython3",
   "version": "3.11.4"
  }
 },
 "nbformat": 4,
 "nbformat_minor": 5
}
